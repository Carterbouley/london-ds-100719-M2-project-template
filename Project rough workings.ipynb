{
 "cells": [
  {
   "cell_type": "code",
   "execution_count": 2,
   "metadata": {},
   "outputs": [],
   "source": [
    "%load_ext autoreload"
   ]
  },
  {
   "cell_type": "code",
   "execution_count": 3,
   "metadata": {},
   "outputs": [],
   "source": [
    "%autoreload 2"
   ]
  },
  {
   "cell_type": "code",
   "execution_count": 4,
   "metadata": {},
   "outputs": [],
   "source": [
    "import requests"
   ]
  },
  {
   "cell_type": "code",
   "execution_count": 14,
   "metadata": {},
   "outputs": [],
   "source": [
    "from lib import MongoHandler, WeatherGetter\n",
    "import json\n",
    "import pandas as pd\n"
   ]
  },
  {
   "cell_type": "code",
   "execution_count": 15,
   "metadata": {},
   "outputs": [
    {
     "data": {
      "text/plain": [
       "<lib.WeatherGetter at 0x11a3c9b70>"
      ]
     },
     "execution_count": 15,
     "metadata": {},
     "output_type": "execute_result"
    }
   ],
   "source": [
    "WeatherGetter()"
   ]
  },
  {
   "cell_type": "code",
   "execution_count": 16,
   "metadata": {},
   "outputs": [],
   "source": [
    "forecast = requests.get(\"https://api.darksky.net/forecast/0a4e4fc0dd14bc1798cbf80b3a544bf7/42.3601,71.0589,2011-01-15T00:00:00\")"
   ]
  },
  {
   "cell_type": "code",
   "execution_count": 17,
   "metadata": {},
   "outputs": [
    {
     "data": {
      "text/plain": [
       "<Response [200]>"
      ]
     },
     "execution_count": 17,
     "metadata": {},
     "output_type": "execute_result"
    }
   ],
   "source": [
    "forecast"
   ]
  },
  {
   "cell_type": "code",
   "execution_count": 18,
   "metadata": {},
   "outputs": [],
   "source": [
    "import sqlite3\n",
    "conn = sqlite3.connect('database.sqlite')\n",
    "cur = conn.cursor()"
   ]
  },
  {
   "cell_type": "code",
   "execution_count": 98,
   "metadata": {},
   "outputs": [],
   "source": [
    "test_dates = cur.execute('''SELECT Date FROM Matches\n",
    "WHERE Date like \"%2011%\"\n",
    "LIMIT 5''').fetchall()"
   ]
  },
  {
   "cell_type": "code",
   "execution_count": 99,
   "metadata": {},
   "outputs": [
    {
     "data": {
      "text/plain": [
       "[('2011-01-15',),\n",
       " ('2011-04-23',),\n",
       " ('2011-03-05',),\n",
       " ('2011-01-29',),\n",
       " ('2011-02-05',)]"
      ]
     },
     "execution_count": 99,
     "metadata": {},
     "output_type": "execute_result"
    }
   ],
   "source": [
    "test_dates"
   ]
  },
  {
   "cell_type": "code",
   "execution_count": 100,
   "metadata": {},
   "outputs": [],
   "source": [
    "get_weather = WeatherGetter()"
   ]
  },
  {
   "cell_type": "code",
   "execution_count": 169,
   "metadata": {},
   "outputs": [
    {
     "data": {
      "text/plain": [
       "<Response [400]>"
      ]
     },
     "execution_count": 169,
     "metadata": {},
     "output_type": "execute_result"
    }
   ],
   "source": [
    "get_weather.weather_getter(test_dates)"
   ]
  },
  {
   "cell_type": "code",
   "execution_count": 136,
   "metadata": {},
   "outputs": [],
   "source": [
    "test_response = get_weather.weather_getter('2011-03-05T00:00:00')"
   ]
  },
  {
   "cell_type": "code",
   "execution_count": 120,
   "metadata": {},
   "outputs": [],
   "source": [
    "data = test_response.json()"
   ]
  },
  {
   "cell_type": "code",
   "execution_count": 124,
   "metadata": {},
   "outputs": [],
   "source": [
    "data_test = data['currently']['icon']"
   ]
  },
  {
   "cell_type": "code",
   "execution_count": 135,
   "metadata": {},
   "outputs": [
    {
     "data": {
      "text/plain": [
       "'partly-cloudy-night'"
      ]
     },
     "execution_count": 135,
     "metadata": {},
     "output_type": "execute_result"
    }
   ],
   "source": [
    "data_test"
   ]
  },
  {
   "cell_type": "code",
   "execution_count": 103,
   "metadata": {},
   "outputs": [
    {
     "name": "stdout",
     "output_type": "stream",
     "text": [
      "('2011-01-15',)\n",
      "('2011-04-23',)\n",
      "('2011-03-05',)\n",
      "('2011-01-29',)\n",
      "('2011-02-05',)\n"
     ]
    }
   ],
   "source": [
    "for date in test_dates:\n",
    "    print(date)"
   ]
  },
  {
   "cell_type": "code",
   "execution_count": 104,
   "metadata": {},
   "outputs": [
    {
     "name": "stdout",
     "output_type": "stream",
     "text": [
      "<Response [400]>\n",
      "<Response [400]>\n",
      "<Response [400]>\n",
      "<Response [400]>\n",
      "<Response [400]>\n"
     ]
    }
   ],
   "source": [
    "for date in test_dates:\n",
    "    print(get_weather.weather_getter(date))\n",
    "    "
   ]
  },
  {
   "cell_type": "code",
   "execution_count": 105,
   "metadata": {},
   "outputs": [],
   "source": [
    "for date in test_dates:\n",
    "    new_date = str(date)"
   ]
  },
  {
   "cell_type": "code",
   "execution_count": 106,
   "metadata": {},
   "outputs": [
    {
     "data": {
      "text/plain": [
       "\"('2011-02-05',)\""
      ]
     },
     "execution_count": 106,
     "metadata": {},
     "output_type": "execute_result"
    }
   ],
   "source": [
    "new_date.strip()"
   ]
  },
  {
   "cell_type": "code",
   "execution_count": 149,
   "metadata": {},
   "outputs": [],
   "source": [
    "list_test_dates = []\n",
    "for a_tuple in test_dates:  # iterates through each tuple\n",
    "    for item in a_tuple:  # iterates through each tuple items\n",
    "        list_test_dates.append(item + 'T15:00:00')"
   ]
  },
  {
   "cell_type": "code",
   "execution_count": 150,
   "metadata": {},
   "outputs": [
    {
     "name": "stdout",
     "output_type": "stream",
     "text": [
      "2011-01-15T15:00:00\n",
      "2011-04-23T15:00:00\n",
      "2011-03-05T15:00:00\n",
      "2011-01-29T15:00:00\n",
      "2011-02-05T15:00:00\n"
     ]
    }
   ],
   "source": [
    "for date in list_test_dates:\n",
    "    print(date)"
   ]
  },
  {
   "cell_type": "code",
   "execution_count": 151,
   "metadata": {},
   "outputs": [],
   "source": [
    "list_of_responses = []\n",
    "\n",
    "for date in list_test_dates:\n",
    "    list_of_responses.append(get_weather.weather_getter(date).json())"
   ]
  },
  {
   "cell_type": "code",
   "execution_count": 167,
   "metadata": {},
   "outputs": [
    {
     "name": "stdout",
     "output_type": "stream",
     "text": [
      "Mostly Cloudy\n",
      "Clear\n",
      "Mostly Cloudy\n",
      "Clear\n",
      "Possible Drizzle and Windy\n"
     ]
    }
   ],
   "source": [
    "for response in list_of_responses:\n",
    "    print(response['currently']['summary'])"
   ]
  },
  {
   "cell_type": "code",
   "execution_count": null,
   "metadata": {},
   "outputs": [],
   "source": []
  },
  {
   "cell_type": "code",
   "execution_count": 36,
   "metadata": {},
   "outputs": [],
   "source": [
    "f = forecast.json()"
   ]
  },
  {
   "cell_type": "code",
   "execution_count": 39,
   "metadata": {},
   "outputs": [
    {
     "name": "stdout",
     "output_type": "stream",
     "text": [
      "<class 'dict'>\n"
     ]
    }
   ],
   "source": [
    "print(type(f))"
   ]
  },
  {
   "cell_type": "code",
   "execution_count": 40,
   "metadata": {},
   "outputs": [
    {
     "data": {
      "text/plain": [
       "dict_keys(['latitude', 'longitude', 'timezone', 'currently', 'hourly', 'daily', 'flags', 'offset'])"
      ]
     },
     "execution_count": 40,
     "metadata": {},
     "output_type": "execute_result"
    }
   ],
   "source": [
    "f.keys()"
   ]
  },
  {
   "cell_type": "code",
   "execution_count": 47,
   "metadata": {},
   "outputs": [
    {
     "data": {
      "text/html": [
       "<div>\n",
       "<style scoped>\n",
       "    .dataframe tbody tr th:only-of-type {\n",
       "        vertical-align: middle;\n",
       "    }\n",
       "\n",
       "    .dataframe tbody tr th {\n",
       "        vertical-align: top;\n",
       "    }\n",
       "\n",
       "    .dataframe thead th {\n",
       "        text-align: right;\n",
       "    }\n",
       "</style>\n",
       "<table border=\"1\" class=\"dataframe\">\n",
       "  <thead>\n",
       "    <tr style=\"text-align: right;\">\n",
       "      <th></th>\n",
       "      <th>latitude</th>\n",
       "      <th>longitude</th>\n",
       "      <th>timezone</th>\n",
       "      <th>currently</th>\n",
       "      <th>hourly</th>\n",
       "      <th>daily</th>\n",
       "      <th>flags</th>\n",
       "      <th>offset</th>\n",
       "    </tr>\n",
       "  </thead>\n",
       "  <tbody>\n",
       "    <tr>\n",
       "      <td>time</td>\n",
       "      <td>42.3601</td>\n",
       "      <td>71.0589</td>\n",
       "      <td>Asia/Almaty</td>\n",
       "      <td>1572510394</td>\n",
       "      <td>NaN</td>\n",
       "      <td>NaN</td>\n",
       "      <td>NaN</td>\n",
       "      <td>6</td>\n",
       "    </tr>\n",
       "    <tr>\n",
       "      <td>summary</td>\n",
       "      <td>42.3601</td>\n",
       "      <td>71.0589</td>\n",
       "      <td>Asia/Almaty</td>\n",
       "      <td>Overcast</td>\n",
       "      <td>Mostly cloudy throughout the day.</td>\n",
       "      <td>Mixed precipitation throughout the week.</td>\n",
       "      <td>NaN</td>\n",
       "      <td>6</td>\n",
       "    </tr>\n",
       "    <tr>\n",
       "      <td>icon</td>\n",
       "      <td>42.3601</td>\n",
       "      <td>71.0589</td>\n",
       "      <td>Asia/Almaty</td>\n",
       "      <td>cloudy</td>\n",
       "      <td>rain</td>\n",
       "      <td>sleet</td>\n",
       "      <td>NaN</td>\n",
       "      <td>6</td>\n",
       "    </tr>\n",
       "    <tr>\n",
       "      <td>precipIntensity</td>\n",
       "      <td>42.3601</td>\n",
       "      <td>71.0589</td>\n",
       "      <td>Asia/Almaty</td>\n",
       "      <td>0.0105</td>\n",
       "      <td>NaN</td>\n",
       "      <td>NaN</td>\n",
       "      <td>NaN</td>\n",
       "      <td>6</td>\n",
       "    </tr>\n",
       "    <tr>\n",
       "      <td>precipProbability</td>\n",
       "      <td>42.3601</td>\n",
       "      <td>71.0589</td>\n",
       "      <td>Asia/Almaty</td>\n",
       "      <td>0.07</td>\n",
       "      <td>NaN</td>\n",
       "      <td>NaN</td>\n",
       "      <td>NaN</td>\n",
       "      <td>6</td>\n",
       "    </tr>\n",
       "    <tr>\n",
       "      <td>precipType</td>\n",
       "      <td>42.3601</td>\n",
       "      <td>71.0589</td>\n",
       "      <td>Asia/Almaty</td>\n",
       "      <td>rain</td>\n",
       "      <td>NaN</td>\n",
       "      <td>NaN</td>\n",
       "      <td>NaN</td>\n",
       "      <td>6</td>\n",
       "    </tr>\n",
       "    <tr>\n",
       "      <td>temperature</td>\n",
       "      <td>42.3601</td>\n",
       "      <td>71.0589</td>\n",
       "      <td>Asia/Almaty</td>\n",
       "      <td>42.52</td>\n",
       "      <td>NaN</td>\n",
       "      <td>NaN</td>\n",
       "      <td>NaN</td>\n",
       "      <td>6</td>\n",
       "    </tr>\n",
       "    <tr>\n",
       "      <td>apparentTemperature</td>\n",
       "      <td>42.3601</td>\n",
       "      <td>71.0589</td>\n",
       "      <td>Asia/Almaty</td>\n",
       "      <td>38.92</td>\n",
       "      <td>NaN</td>\n",
       "      <td>NaN</td>\n",
       "      <td>NaN</td>\n",
       "      <td>6</td>\n",
       "    </tr>\n",
       "    <tr>\n",
       "      <td>dewPoint</td>\n",
       "      <td>42.3601</td>\n",
       "      <td>71.0589</td>\n",
       "      <td>Asia/Almaty</td>\n",
       "      <td>29.51</td>\n",
       "      <td>NaN</td>\n",
       "      <td>NaN</td>\n",
       "      <td>NaN</td>\n",
       "      <td>6</td>\n",
       "    </tr>\n",
       "    <tr>\n",
       "      <td>humidity</td>\n",
       "      <td>42.3601</td>\n",
       "      <td>71.0589</td>\n",
       "      <td>Asia/Almaty</td>\n",
       "      <td>0.6</td>\n",
       "      <td>NaN</td>\n",
       "      <td>NaN</td>\n",
       "      <td>NaN</td>\n",
       "      <td>6</td>\n",
       "    </tr>\n",
       "    <tr>\n",
       "      <td>pressure</td>\n",
       "      <td>42.3601</td>\n",
       "      <td>71.0589</td>\n",
       "      <td>Asia/Almaty</td>\n",
       "      <td>1016.1</td>\n",
       "      <td>NaN</td>\n",
       "      <td>NaN</td>\n",
       "      <td>NaN</td>\n",
       "      <td>6</td>\n",
       "    </tr>\n",
       "    <tr>\n",
       "      <td>windSpeed</td>\n",
       "      <td>42.3601</td>\n",
       "      <td>71.0589</td>\n",
       "      <td>Asia/Almaty</td>\n",
       "      <td>5.76</td>\n",
       "      <td>NaN</td>\n",
       "      <td>NaN</td>\n",
       "      <td>NaN</td>\n",
       "      <td>6</td>\n",
       "    </tr>\n",
       "    <tr>\n",
       "      <td>windGust</td>\n",
       "      <td>42.3601</td>\n",
       "      <td>71.0589</td>\n",
       "      <td>Asia/Almaty</td>\n",
       "      <td>7.48</td>\n",
       "      <td>NaN</td>\n",
       "      <td>NaN</td>\n",
       "      <td>NaN</td>\n",
       "      <td>6</td>\n",
       "    </tr>\n",
       "    <tr>\n",
       "      <td>windBearing</td>\n",
       "      <td>42.3601</td>\n",
       "      <td>71.0589</td>\n",
       "      <td>Asia/Almaty</td>\n",
       "      <td>225</td>\n",
       "      <td>NaN</td>\n",
       "      <td>NaN</td>\n",
       "      <td>NaN</td>\n",
       "      <td>6</td>\n",
       "    </tr>\n",
       "    <tr>\n",
       "      <td>cloudCover</td>\n",
       "      <td>42.3601</td>\n",
       "      <td>71.0589</td>\n",
       "      <td>Asia/Almaty</td>\n",
       "      <td>0.93</td>\n",
       "      <td>NaN</td>\n",
       "      <td>NaN</td>\n",
       "      <td>NaN</td>\n",
       "      <td>6</td>\n",
       "    </tr>\n",
       "    <tr>\n",
       "      <td>uvIndex</td>\n",
       "      <td>42.3601</td>\n",
       "      <td>71.0589</td>\n",
       "      <td>Asia/Almaty</td>\n",
       "      <td>2</td>\n",
       "      <td>NaN</td>\n",
       "      <td>NaN</td>\n",
       "      <td>NaN</td>\n",
       "      <td>6</td>\n",
       "    </tr>\n",
       "    <tr>\n",
       "      <td>visibility</td>\n",
       "      <td>42.3601</td>\n",
       "      <td>71.0589</td>\n",
       "      <td>Asia/Almaty</td>\n",
       "      <td>7.542</td>\n",
       "      <td>NaN</td>\n",
       "      <td>NaN</td>\n",
       "      <td>NaN</td>\n",
       "      <td>6</td>\n",
       "    </tr>\n",
       "    <tr>\n",
       "      <td>ozone</td>\n",
       "      <td>42.3601</td>\n",
       "      <td>71.0589</td>\n",
       "      <td>Asia/Almaty</td>\n",
       "      <td>301.4</td>\n",
       "      <td>NaN</td>\n",
       "      <td>NaN</td>\n",
       "      <td>NaN</td>\n",
       "      <td>6</td>\n",
       "    </tr>\n",
       "    <tr>\n",
       "      <td>data</td>\n",
       "      <td>42.3601</td>\n",
       "      <td>71.0589</td>\n",
       "      <td>Asia/Almaty</td>\n",
       "      <td>NaN</td>\n",
       "      <td>[{'time': 1572508800, 'summary': 'Overcast', '...</td>\n",
       "      <td>[{'time': 1572458400, 'summary': 'Mostly cloud...</td>\n",
       "      <td>NaN</td>\n",
       "      <td>6</td>\n",
       "    </tr>\n",
       "    <tr>\n",
       "      <td>sources</td>\n",
       "      <td>42.3601</td>\n",
       "      <td>71.0589</td>\n",
       "      <td>Asia/Almaty</td>\n",
       "      <td>NaN</td>\n",
       "      <td>NaN</td>\n",
       "      <td>NaN</td>\n",
       "      <td>[cmc, gfs, icon, isd, madis]</td>\n",
       "      <td>6</td>\n",
       "    </tr>\n",
       "    <tr>\n",
       "      <td>nearest-station</td>\n",
       "      <td>42.3601</td>\n",
       "      <td>71.0589</td>\n",
       "      <td>Asia/Almaty</td>\n",
       "      <td>NaN</td>\n",
       "      <td>NaN</td>\n",
       "      <td>NaN</td>\n",
       "      <td>12.977</td>\n",
       "      <td>6</td>\n",
       "    </tr>\n",
       "    <tr>\n",
       "      <td>units</td>\n",
       "      <td>42.3601</td>\n",
       "      <td>71.0589</td>\n",
       "      <td>Asia/Almaty</td>\n",
       "      <td>NaN</td>\n",
       "      <td>NaN</td>\n",
       "      <td>NaN</td>\n",
       "      <td>us</td>\n",
       "      <td>6</td>\n",
       "    </tr>\n",
       "  </tbody>\n",
       "</table>\n",
       "</div>"
      ],
      "text/plain": [
       "                     latitude  longitude     timezone   currently  \\\n",
       "time                  42.3601    71.0589  Asia/Almaty  1572510394   \n",
       "summary               42.3601    71.0589  Asia/Almaty    Overcast   \n",
       "icon                  42.3601    71.0589  Asia/Almaty      cloudy   \n",
       "precipIntensity       42.3601    71.0589  Asia/Almaty      0.0105   \n",
       "precipProbability     42.3601    71.0589  Asia/Almaty        0.07   \n",
       "precipType            42.3601    71.0589  Asia/Almaty        rain   \n",
       "temperature           42.3601    71.0589  Asia/Almaty       42.52   \n",
       "apparentTemperature   42.3601    71.0589  Asia/Almaty       38.92   \n",
       "dewPoint              42.3601    71.0589  Asia/Almaty       29.51   \n",
       "humidity              42.3601    71.0589  Asia/Almaty         0.6   \n",
       "pressure              42.3601    71.0589  Asia/Almaty      1016.1   \n",
       "windSpeed             42.3601    71.0589  Asia/Almaty        5.76   \n",
       "windGust              42.3601    71.0589  Asia/Almaty        7.48   \n",
       "windBearing           42.3601    71.0589  Asia/Almaty         225   \n",
       "cloudCover            42.3601    71.0589  Asia/Almaty        0.93   \n",
       "uvIndex               42.3601    71.0589  Asia/Almaty           2   \n",
       "visibility            42.3601    71.0589  Asia/Almaty       7.542   \n",
       "ozone                 42.3601    71.0589  Asia/Almaty       301.4   \n",
       "data                  42.3601    71.0589  Asia/Almaty         NaN   \n",
       "sources               42.3601    71.0589  Asia/Almaty         NaN   \n",
       "nearest-station       42.3601    71.0589  Asia/Almaty         NaN   \n",
       "units                 42.3601    71.0589  Asia/Almaty         NaN   \n",
       "\n",
       "                                                                hourly  \\\n",
       "time                                                               NaN   \n",
       "summary                              Mostly cloudy throughout the day.   \n",
       "icon                                                              rain   \n",
       "precipIntensity                                                    NaN   \n",
       "precipProbability                                                  NaN   \n",
       "precipType                                                         NaN   \n",
       "temperature                                                        NaN   \n",
       "apparentTemperature                                                NaN   \n",
       "dewPoint                                                           NaN   \n",
       "humidity                                                           NaN   \n",
       "pressure                                                           NaN   \n",
       "windSpeed                                                          NaN   \n",
       "windGust                                                           NaN   \n",
       "windBearing                                                        NaN   \n",
       "cloudCover                                                         NaN   \n",
       "uvIndex                                                            NaN   \n",
       "visibility                                                         NaN   \n",
       "ozone                                                              NaN   \n",
       "data                 [{'time': 1572508800, 'summary': 'Overcast', '...   \n",
       "sources                                                            NaN   \n",
       "nearest-station                                                    NaN   \n",
       "units                                                              NaN   \n",
       "\n",
       "                                                                 daily  \\\n",
       "time                                                               NaN   \n",
       "summary                       Mixed precipitation throughout the week.   \n",
       "icon                                                             sleet   \n",
       "precipIntensity                                                    NaN   \n",
       "precipProbability                                                  NaN   \n",
       "precipType                                                         NaN   \n",
       "temperature                                                        NaN   \n",
       "apparentTemperature                                                NaN   \n",
       "dewPoint                                                           NaN   \n",
       "humidity                                                           NaN   \n",
       "pressure                                                           NaN   \n",
       "windSpeed                                                          NaN   \n",
       "windGust                                                           NaN   \n",
       "windBearing                                                        NaN   \n",
       "cloudCover                                                         NaN   \n",
       "uvIndex                                                            NaN   \n",
       "visibility                                                         NaN   \n",
       "ozone                                                              NaN   \n",
       "data                 [{'time': 1572458400, 'summary': 'Mostly cloud...   \n",
       "sources                                                            NaN   \n",
       "nearest-station                                                    NaN   \n",
       "units                                                              NaN   \n",
       "\n",
       "                                            flags  offset  \n",
       "time                                          NaN       6  \n",
       "summary                                       NaN       6  \n",
       "icon                                          NaN       6  \n",
       "precipIntensity                               NaN       6  \n",
       "precipProbability                             NaN       6  \n",
       "precipType                                    NaN       6  \n",
       "temperature                                   NaN       6  \n",
       "apparentTemperature                           NaN       6  \n",
       "dewPoint                                      NaN       6  \n",
       "humidity                                      NaN       6  \n",
       "pressure                                      NaN       6  \n",
       "windSpeed                                     NaN       6  \n",
       "windGust                                      NaN       6  \n",
       "windBearing                                   NaN       6  \n",
       "cloudCover                                    NaN       6  \n",
       "uvIndex                                       NaN       6  \n",
       "visibility                                    NaN       6  \n",
       "ozone                                         NaN       6  \n",
       "data                                          NaN       6  \n",
       "sources              [cmc, gfs, icon, isd, madis]       6  \n",
       "nearest-station                            12.977       6  \n",
       "units                                          us       6  "
      ]
     },
     "execution_count": 47,
     "metadata": {},
     "output_type": "execute_result"
    }
   ],
   "source": [
    "pd.DataFrame.from_dict(f)\n"
   ]
  },
  {
   "cell_type": "code",
   "execution_count": 57,
   "metadata": {},
   "outputs": [],
   "source": [
    "location = (42.3601,71.0589)"
   ]
  },
  {
   "cell_type": "code",
   "execution_count": 64,
   "metadata": {},
   "outputs": [
    {
     "data": {
      "text/plain": [
       "<lib.WeatherGetter at 0x121170400>"
      ]
     },
     "execution_count": 64,
     "metadata": {},
     "output_type": "execute_result"
    }
   ],
   "source": [
    "WeatherGetter()"
   ]
  },
  {
   "cell_type": "code",
   "execution_count": 2,
   "metadata": {},
   "outputs": [],
   "source": [
    "import sqlite3\n",
    "conn = sqlite3.connect('database.sqlite')\n",
    "cur = conn.cursor()"
   ]
  },
  {
   "cell_type": "code",
   "execution_count": 2,
   "metadata": {},
   "outputs": [
    {
     "ename": "NameError",
     "evalue": "name 'cur' is not defined",
     "output_type": "error",
     "traceback": [
      "\u001b[0;31m---------------------------------------------------------------------------\u001b[0m",
      "\u001b[0;31mNameError\u001b[0m                                 Traceback (most recent call last)",
      "\u001b[0;32m<ipython-input-2-c42644e0a7c1>\u001b[0m in \u001b[0;36m<module>\u001b[0;34m\u001b[0m\n\u001b[0;32m----> 1\u001b[0;31m test_dates = cur.execute('''SELECT Date FROM Matches\\\n\u001b[0m\u001b[1;32m      2\u001b[0m \u001b[0mWHERE\u001b[0m \u001b[0mDate\u001b[0m \u001b[0;32mis\u001b[0m \u001b[0mlike\u001b[0m \u001b[0;34m\"2011%\"\u001b[0m\u001b[0;34m\u001b[0m\u001b[0;34m\u001b[0m\u001b[0m\n\u001b[1;32m      3\u001b[0m LIMIT 1''').fetchall()\n",
      "\u001b[0;31mNameError\u001b[0m: name 'cur' is not defined"
     ]
    }
   ],
   "source": [
    "test_dates = cur.execute('''SELECT Date FROM Matches\\\n",
    "WHERE Date is like \"2011%\"\n",
    "LIMIT 1''').fetchall()"
   ]
  },
  {
   "cell_type": "code",
   "execution_count": 14,
   "metadata": {},
   "outputs": [
    {
     "ename": "NameError",
     "evalue": "name 'cur' is not defined",
     "output_type": "error",
     "traceback": [
      "\u001b[0;31m---------------------------------------------------------------------------\u001b[0m",
      "\u001b[0;31mNameError\u001b[0m                                 Traceback (most recent call last)",
      "\u001b[0;32m<ipython-input-14-7e79369d623d>\u001b[0m in \u001b[0;36m<module>\u001b[0;34m\u001b[0m\n\u001b[0;32m----> 1\u001b[0;31m full_dates = cur.execute('''SELECT Date FROM Matches\n\u001b[0m\u001b[1;32m      2\u001b[0m                     ''').fetchall()\n",
      "\u001b[0;31mNameError\u001b[0m: name 'cur' is not defined"
     ]
    }
   ],
   "source": [
    "full_dates = cur.execute('''SELECT Date FROM Matches\n",
    "                    ''').fetchall()"
   ]
  },
  {
   "cell_type": "code",
   "execution_count": 92,
   "metadata": {},
   "outputs": [],
   "source": [
    "df = pd.DataFrame(cur.execute(\"\"\"SELECT * FROM Matches\n",
    "                WHERE Date like '%2011%' \"\"\").fetchall())\n",
    "df.columns = [x[0] for x in cur.description]"
   ]
  },
  {
   "cell_type": "code",
   "execution_count": 93,
   "metadata": {},
   "outputs": [
    {
     "data": {
      "text/html": [
       "<div>\n",
       "<style scoped>\n",
       "    .dataframe tbody tr th:only-of-type {\n",
       "        vertical-align: middle;\n",
       "    }\n",
       "\n",
       "    .dataframe tbody tr th {\n",
       "        vertical-align: top;\n",
       "    }\n",
       "\n",
       "    .dataframe thead th {\n",
       "        text-align: right;\n",
       "    }\n",
       "</style>\n",
       "<table border=\"1\" class=\"dataframe\">\n",
       "  <thead>\n",
       "    <tr style=\"text-align: right;\">\n",
       "      <th></th>\n",
       "      <th>Match_ID</th>\n",
       "      <th>Div</th>\n",
       "      <th>Season</th>\n",
       "      <th>Date</th>\n",
       "      <th>HomeTeam</th>\n",
       "      <th>AwayTeam</th>\n",
       "      <th>FTHG</th>\n",
       "      <th>FTAG</th>\n",
       "      <th>FTR</th>\n",
       "    </tr>\n",
       "  </thead>\n",
       "  <tbody>\n",
       "    <tr>\n",
       "      <td>0</td>\n",
       "      <td>481</td>\n",
       "      <td>D1</td>\n",
       "      <td>2010</td>\n",
       "      <td>2011-01-15</td>\n",
       "      <td>Wolfsburg</td>\n",
       "      <td>Bayern Munich</td>\n",
       "      <td>1</td>\n",
       "      <td>1</td>\n",
       "      <td>D</td>\n",
       "    </tr>\n",
       "    <tr>\n",
       "      <td>1</td>\n",
       "      <td>483</td>\n",
       "      <td>D1</td>\n",
       "      <td>2010</td>\n",
       "      <td>2011-04-23</td>\n",
       "      <td>Ein Frankfurt</td>\n",
       "      <td>Bayern Munich</td>\n",
       "      <td>1</td>\n",
       "      <td>1</td>\n",
       "      <td>D</td>\n",
       "    </tr>\n",
       "    <tr>\n",
       "      <td>2</td>\n",
       "      <td>485</td>\n",
       "      <td>D1</td>\n",
       "      <td>2010</td>\n",
       "      <td>2011-03-05</td>\n",
       "      <td>Hannover</td>\n",
       "      <td>Bayern Munich</td>\n",
       "      <td>3</td>\n",
       "      <td>1</td>\n",
       "      <td>H</td>\n",
       "    </tr>\n",
       "    <tr>\n",
       "      <td>3</td>\n",
       "      <td>489</td>\n",
       "      <td>D1</td>\n",
       "      <td>2010</td>\n",
       "      <td>2011-01-29</td>\n",
       "      <td>Werder Bremen</td>\n",
       "      <td>Bayern Munich</td>\n",
       "      <td>1</td>\n",
       "      <td>3</td>\n",
       "      <td>A</td>\n",
       "    </tr>\n",
       "    <tr>\n",
       "      <td>4</td>\n",
       "      <td>490</td>\n",
       "      <td>D1</td>\n",
       "      <td>2010</td>\n",
       "      <td>2011-02-05</td>\n",
       "      <td>FC Koln</td>\n",
       "      <td>Bayern Munich</td>\n",
       "      <td>3</td>\n",
       "      <td>2</td>\n",
       "      <td>H</td>\n",
       "    </tr>\n",
       "  </tbody>\n",
       "</table>\n",
       "</div>"
      ],
      "text/plain": [
       "   Match_ID Div  Season        Date       HomeTeam       AwayTeam  FTHG  FTAG  \\\n",
       "0       481  D1    2010  2011-01-15      Wolfsburg  Bayern Munich     1     1   \n",
       "1       483  D1    2010  2011-04-23  Ein Frankfurt  Bayern Munich     1     1   \n",
       "2       485  D1    2010  2011-03-05       Hannover  Bayern Munich     3     1   \n",
       "3       489  D1    2010  2011-01-29  Werder Bremen  Bayern Munich     1     3   \n",
       "4       490  D1    2010  2011-02-05        FC Koln  Bayern Munich     3     2   \n",
       "\n",
       "  FTR  \n",
       "0   D  \n",
       "1   D  \n",
       "2   H  \n",
       "3   A  \n",
       "4   H  "
      ]
     },
     "execution_count": 93,
     "metadata": {},
     "output_type": "execute_result"
    }
   ],
   "source": [
    "df.head()"
   ]
  },
  {
   "cell_type": "code",
   "execution_count": 98,
   "metadata": {},
   "outputs": [
    {
     "data": {
      "text/html": [
       "<div>\n",
       "<style scoped>\n",
       "    .dataframe tbody tr th:only-of-type {\n",
       "        vertical-align: middle;\n",
       "    }\n",
       "\n",
       "    .dataframe tbody tr th {\n",
       "        vertical-align: top;\n",
       "    }\n",
       "\n",
       "    .dataframe thead th {\n",
       "        text-align: right;\n",
       "    }\n",
       "</style>\n",
       "<table border=\"1\" class=\"dataframe\">\n",
       "  <thead>\n",
       "    <tr style=\"text-align: right;\">\n",
       "      <th></th>\n",
       "      <th>Match_ID</th>\n",
       "      <th>Season</th>\n",
       "      <th>FTHG</th>\n",
       "      <th>FTAG</th>\n",
       "    </tr>\n",
       "    <tr>\n",
       "      <th>HomeTeam</th>\n",
       "      <th></th>\n",
       "      <th></th>\n",
       "      <th></th>\n",
       "      <th></th>\n",
       "    </tr>\n",
       "  </thead>\n",
       "  <tbody>\n",
       "    <tr>\n",
       "      <td>Aachen</td>\n",
       "      <td>21416</td>\n",
       "      <td>36189</td>\n",
       "      <td>26</td>\n",
       "      <td>33</td>\n",
       "    </tr>\n",
       "    <tr>\n",
       "      <td>Arsenal</td>\n",
       "      <td>889846</td>\n",
       "      <td>40210</td>\n",
       "      <td>27</td>\n",
       "      <td>10</td>\n",
       "    </tr>\n",
       "    <tr>\n",
       "      <td>Aston Villa</td>\n",
       "      <td>800828</td>\n",
       "      <td>36189</td>\n",
       "      <td>22</td>\n",
       "      <td>18</td>\n",
       "    </tr>\n",
       "    <tr>\n",
       "      <td>Augsburg</td>\n",
       "      <td>19075</td>\n",
       "      <td>34178</td>\n",
       "      <td>22</td>\n",
       "      <td>18</td>\n",
       "    </tr>\n",
       "    <tr>\n",
       "      <td>Bayern Munich</td>\n",
       "      <td>17057</td>\n",
       "      <td>34179</td>\n",
       "      <td>58</td>\n",
       "      <td>10</td>\n",
       "    </tr>\n",
       "    <tr>\n",
       "      <td>...</td>\n",
       "      <td>...</td>\n",
       "      <td>...</td>\n",
       "      <td>...</td>\n",
       "      <td>...</td>\n",
       "    </tr>\n",
       "    <tr>\n",
       "      <td>West Brom</td>\n",
       "      <td>845226</td>\n",
       "      <td>38199</td>\n",
       "      <td>25</td>\n",
       "      <td>28</td>\n",
       "    </tr>\n",
       "    <tr>\n",
       "      <td>West Ham</td>\n",
       "      <td>399615</td>\n",
       "      <td>18090</td>\n",
       "      <td>12</td>\n",
       "      <td>15</td>\n",
       "    </tr>\n",
       "    <tr>\n",
       "      <td>Wigan</td>\n",
       "      <td>800797</td>\n",
       "      <td>36189</td>\n",
       "      <td>21</td>\n",
       "      <td>31</td>\n",
       "    </tr>\n",
       "    <tr>\n",
       "      <td>Wolfsburg</td>\n",
       "      <td>16048</td>\n",
       "      <td>34178</td>\n",
       "      <td>26</td>\n",
       "      <td>23</td>\n",
       "    </tr>\n",
       "    <tr>\n",
       "      <td>Wolves</td>\n",
       "      <td>800921</td>\n",
       "      <td>36189</td>\n",
       "      <td>29</td>\n",
       "      <td>30</td>\n",
       "    </tr>\n",
       "  </tbody>\n",
       "</table>\n",
       "<p>62 rows × 4 columns</p>\n",
       "</div>"
      ],
      "text/plain": [
       "               Match_ID  Season  FTHG  FTAG\n",
       "HomeTeam                                   \n",
       "Aachen            21416   36189    26    33\n",
       "Arsenal          889846   40210    27    10\n",
       "Aston Villa      800828   36189    22    18\n",
       "Augsburg          19075   34178    22    18\n",
       "Bayern Munich     17057   34179    58    10\n",
       "...                 ...     ...   ...   ...\n",
       "West Brom        845226   38199    25    28\n",
       "West Ham         399615   18090    12    15\n",
       "Wigan            800797   36189    21    31\n",
       "Wolfsburg         16048   34178    26    23\n",
       "Wolves           800921   36189    29    30\n",
       "\n",
       "[62 rows x 4 columns]"
      ]
     },
     "execution_count": 98,
     "metadata": {},
     "output_type": "execute_result"
    }
   ],
   "source": [
    "df.groupby('HomeTeam').sum()"
   ]
  },
  {
   "cell_type": "code",
   "execution_count": 111,
   "metadata": {},
   "outputs": [
    {
     "data": {
      "text/plain": [
       "1008"
      ]
     },
     "execution_count": 111,
     "metadata": {},
     "output_type": "execute_result"
    }
   ],
   "source": [
    "df.Match_ID.duplicated().count()"
   ]
  },
  {
   "cell_type": "code",
   "execution_count": 112,
   "metadata": {},
   "outputs": [],
   "source": [
    "ht_df = df[['HomeTeam', 'FTHG']]"
   ]
  },
  {
   "cell_type": "code",
   "execution_count": 118,
   "metadata": {},
   "outputs": [
    {
     "data": {
      "text/html": [
       "<div>\n",
       "<style scoped>\n",
       "    .dataframe tbody tr th:only-of-type {\n",
       "        vertical-align: middle;\n",
       "    }\n",
       "\n",
       "    .dataframe tbody tr th {\n",
       "        vertical-align: top;\n",
       "    }\n",
       "\n",
       "    .dataframe thead th {\n",
       "        text-align: right;\n",
       "    }\n",
       "</style>\n",
       "<table border=\"1\" class=\"dataframe\">\n",
       "  <thead>\n",
       "    <tr style=\"text-align: right;\">\n",
       "      <th></th>\n",
       "      <th>FTHG</th>\n",
       "    </tr>\n",
       "    <tr>\n",
       "      <th>HomeTeam</th>\n",
       "      <th></th>\n",
       "    </tr>\n",
       "  </thead>\n",
       "  <tbody>\n",
       "    <tr>\n",
       "      <td>Aachen</td>\n",
       "      <td>26</td>\n",
       "    </tr>\n",
       "    <tr>\n",
       "      <td>Arsenal</td>\n",
       "      <td>27</td>\n",
       "    </tr>\n",
       "    <tr>\n",
       "      <td>Aston Villa</td>\n",
       "      <td>22</td>\n",
       "    </tr>\n",
       "    <tr>\n",
       "      <td>Augsburg</td>\n",
       "      <td>22</td>\n",
       "    </tr>\n",
       "    <tr>\n",
       "      <td>Bayern Munich</td>\n",
       "      <td>58</td>\n",
       "    </tr>\n",
       "    <tr>\n",
       "      <td>...</td>\n",
       "      <td>...</td>\n",
       "    </tr>\n",
       "    <tr>\n",
       "      <td>West Brom</td>\n",
       "      <td>25</td>\n",
       "    </tr>\n",
       "    <tr>\n",
       "      <td>West Ham</td>\n",
       "      <td>12</td>\n",
       "    </tr>\n",
       "    <tr>\n",
       "      <td>Wigan</td>\n",
       "      <td>21</td>\n",
       "    </tr>\n",
       "    <tr>\n",
       "      <td>Wolfsburg</td>\n",
       "      <td>26</td>\n",
       "    </tr>\n",
       "    <tr>\n",
       "      <td>Wolves</td>\n",
       "      <td>29</td>\n",
       "    </tr>\n",
       "  </tbody>\n",
       "</table>\n",
       "<p>62 rows × 1 columns</p>\n",
       "</div>"
      ],
      "text/plain": [
       "               FTHG\n",
       "HomeTeam           \n",
       "Aachen           26\n",
       "Arsenal          27\n",
       "Aston Villa      22\n",
       "Augsburg         22\n",
       "Bayern Munich    58\n",
       "...             ...\n",
       "West Brom        25\n",
       "West Ham         12\n",
       "Wigan            21\n",
       "Wolfsburg        26\n",
       "Wolves           29\n",
       "\n",
       "[62 rows x 1 columns]"
      ]
     },
     "execution_count": 118,
     "metadata": {},
     "output_type": "execute_result"
    }
   ],
   "source": [
    "ht_df.groupby(['HomeTeam']).sum()"
   ]
  },
  {
   "cell_type": "code",
   "execution_count": 168,
   "metadata": {},
   "outputs": [
    {
     "ename": "NameError",
     "evalue": "name 'df' is not defined",
     "output_type": "error",
     "traceback": [
      "\u001b[0;31m---------------------------------------------------------------------------\u001b[0m",
      "\u001b[0;31mNameError\u001b[0m                                 Traceback (most recent call last)",
      "\u001b[0;32m<ipython-input-168-00cf07b74dcd>\u001b[0m in \u001b[0;36m<module>\u001b[0;34m\u001b[0m\n\u001b[0;32m----> 1\u001b[0;31m \u001b[0mdf\u001b[0m\u001b[0;34m\u001b[0m\u001b[0;34m\u001b[0m\u001b[0m\n\u001b[0m",
      "\u001b[0;31mNameError\u001b[0m: name 'df' is not defined"
     ]
    }
   ],
   "source": [
    "df"
   ]
  },
  {
   "cell_type": "code",
   "execution_count": null,
   "metadata": {},
   "outputs": [],
   "source": []
  }
 ],
 "metadata": {
  "kernelspec": {
   "display_name": "learn-env",
   "language": "python",
   "name": "learn-env"
  },
  "language_info": {
   "codemirror_mode": {
    "name": "ipython",
    "version": 3
   },
   "file_extension": ".py",
   "mimetype": "text/x-python",
   "name": "python",
   "nbconvert_exporter": "python",
   "pygments_lexer": "ipython3",
   "version": "3.6.9"
  }
 },
 "nbformat": 4,
 "nbformat_minor": 2
}
